{
  "nbformat": 4,
  "nbformat_minor": 0,
  "metadata": {
    "colab": {
      "private_outputs": true,
      "provenance": [],
      "authorship_tag": "ABX9TyPi7gIadC+Nf4oUoiMlPVge",
      "include_colab_link": true
    },
    "kernelspec": {
      "name": "python3",
      "display_name": "Python 3"
    },
    "language_info": {
      "name": "python"
    }
  },
  "cells": [
    {
      "cell_type": "markdown",
      "metadata": {
        "id": "view-in-github",
        "colab_type": "text"
      },
      "source": [
        "<a href=\"https://colab.research.google.com/github/RobsonCDToledo/Teste_A-B_Concpet/blob/main/Testes_A_B.ipynb\" target=\"_parent\"><img src=\"https://colab.research.google.com/assets/colab-badge.svg\" alt=\"Open In Colab\"/></a>"
      ]
    },
    {
      "cell_type": "markdown",
      "source": [
        "# Testes A/B"
      ],
      "metadata": {
        "id": "vgW6OS0zfmvB"
      }
    },
    {
      "cell_type": "markdown",
      "source": [
        "## *Bibliotecas utilizadas*"
      ],
      "metadata": {
        "id": "bqUesB65fsNw"
      }
    },
    {
      "cell_type": "markdown",
      "source": [
        "- Numpy\n",
        "- Scipy\n",
        "- Matplotlib\n"
      ],
      "metadata": {
        "id": "9VajJAligBFj"
      }
    },
    {
      "cell_type": "code",
      "source": [
        "import numpy as np\n",
        "import scipy\n",
        "import matplotlib.pyplot as plt"
      ],
      "metadata": {
        "id": "sI2It8OVfpLj"
      },
      "execution_count": null,
      "outputs": []
    },
    {
      "cell_type": "markdown",
      "source": [
        "# Criando Dataframe de teste"
      ],
      "metadata": {
        "id": "d944lwL0gPaz"
      }
    },
    {
      "cell_type": "code",
      "source": [
        "versao_A = np.random.normal(loc=10, scale=2, size=1000)\n",
        "versao_B = np.random.normal(loc=10, scale=2, size=1000)"
      ],
      "metadata": {
        "id": "yNShFOrdf5Ii"
      },
      "execution_count": null,
      "outputs": []
    },
    {
      "cell_type": "markdown",
      "source": [
        "#Iniciando Testes com Scipy"
      ],
      "metadata": {
        "id": "zLlVIokThJuT"
      }
    },
    {
      "cell_type": "code",
      "source": [
        "from scipy.stats import ttest_ind"
      ],
      "metadata": {
        "id": "Nn_E96kPgxSa"
      },
      "execution_count": null,
      "outputs": []
    },
    {
      "cell_type": "code",
      "source": [
        "t, p = ttest_ind(versao_A, versao_B)\n"
      ],
      "metadata": {
        "id": "erqpDN9WgzBu"
      },
      "execution_count": null,
      "outputs": []
    },
    {
      "cell_type": "code",
      "source": [
        "print(f\"t = {t:3f}\")\n",
        "print(f\"p = {p:3f}\")"
      ],
      "metadata": {
        "id": "bu6dnR8XhXlG"
      },
      "execution_count": null,
      "outputs": []
    },
    {
      "cell_type": "code",
      "source": [
        "media_A = np.mean(versao_A)\n",
        "media_B = np.mean(versao_B)"
      ],
      "metadata": {
        "id": "udnVy3g9hjiA"
      },
      "execution_count": null,
      "outputs": []
    },
    {
      "cell_type": "code",
      "source": [
        "plt.hist(versao_A, alpha=0.5, label='Versão A')\n",
        "plt.hist(versao_B, alpha=0.5, label='Versão B')\n",
        "plt.axvline(media_A, color='r', linestyle='dashed', linewidth=1)\n",
        "plt.axvline(media_B, color='b', linestyle='dashed', linewidth=1)\n",
        "plt.legend(loc='upper right')\n",
        "plt.show()"
      ],
      "metadata": {
        "id": "2BhBWAjZiBGd"
      },
      "execution_count": null,
      "outputs": []
    }
  ]
}